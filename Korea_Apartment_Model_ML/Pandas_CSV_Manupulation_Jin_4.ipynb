{
 "cells": [
  {
   "cell_type": "code",
   "execution_count": 1,
   "id": "c931c302",
   "metadata": {},
   "outputs": [],
   "source": [
    "import pandas as pd"
   ]
  },
  {
   "cell_type": "code",
   "execution_count": 2,
   "id": "6010c620",
   "metadata": {},
   "outputs": [],
   "source": [
    "F1_df = pd.read_csv('data/Final_1.csv')"
   ]
  },
  {
   "cell_type": "code",
   "execution_count": 3,
   "id": "cdab2c04",
   "metadata": {},
   "outputs": [],
   "source": [
    "pd.set_option('display.max_columns',253)\n",
    "pd.set_option('display.max_rows', 10)"
   ]
  },
  {
   "cell_type": "code",
   "execution_count": 4,
   "id": "4709bd99",
   "metadata": {},
   "outputs": [
    {
     "data": {
      "text/plain": [
       "(1146384, 254)"
      ]
     },
     "execution_count": 4,
     "metadata": {},
     "output_type": "execute_result"
    }
   ],
   "source": [
    "F1_df.shape"
   ]
  },
  {
   "cell_type": "code",
   "execution_count": null,
   "id": "6288dddf",
   "metadata": {},
   "outputs": [],
   "source": [
    "F1_df"
   ]
  }
 ],
 "metadata": {
  "kernelspec": {
   "display_name": "Python 3 (ipykernel)",
   "language": "python",
   "name": "python3"
  },
  "language_info": {
   "codemirror_mode": {
    "name": "ipython",
    "version": 3
   },
   "file_extension": ".py",
   "mimetype": "text/x-python",
   "name": "python",
   "nbconvert_exporter": "python",
   "pygments_lexer": "ipython3",
   "version": "3.8.12"
  }
 },
 "nbformat": 4,
 "nbformat_minor": 5
}
