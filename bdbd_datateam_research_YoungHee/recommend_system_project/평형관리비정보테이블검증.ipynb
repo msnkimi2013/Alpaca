{
 "cells": [
  {
   "cell_type": "code",
   "execution_count": 1,
   "metadata": {},
   "outputs": [],
   "source": [
    "import pandas as pd\n",
    "import numpy as np\n",
    "import seaborn as sns\n",
    "import warnings\n",
    "from matplotlib import pyplot as plt\n",
    "warnings.simplefilter(action='ignore', category=FutureWarning)"
   ]
  },
  {
   "cell_type": "code",
   "execution_count": 8,
   "metadata": {},
   "outputs": [],
   "source": [
    "pf = pd.read_csv('../data/kms_tables/평형정보.csv', sep=\"|\", low_memory=False)\n",
    "df = pd.read_csv('../data/kms_new/단지기본정보.csv', sep='|', low_memory=False)"
   ]
  },
  {
   "cell_type": "markdown",
   "metadata": {},
   "source": [
    "## 평형정보 테이블 검증"
   ]
  },
  {
   "cell_type": "code",
   "execution_count": 16,
   "metadata": {},
   "outputs": [
    {
     "data": {
      "text/plain": [
       "0"
      ]
     },
     "execution_count": 16,
     "metadata": {},
     "output_type": "execute_result"
    }
   ],
   "source": [
    "# 평형정보 없는 단지는 없는걸로 확인\n",
    "not_in_list = []\n",
    "for cod in df['단지코드']:\n",
    "    if cod not in pf['단지코드']: \n",
    "        not_in_list.append(cod)\n",
    "        \n",
    "len(not_in_list)"
   ]
  },
  {
   "cell_type": "code",
   "execution_count": 18,
   "metadata": {},
   "outputs": [
    {
     "data": {
      "text/plain": [
       "Index(['Unnamed: 0', '단지코드', '평형코드', '평타입', '사용여부', '방수', '욕실수', '계약면적_제곱미터',\n",
       "       '공급면적_제곱미터', '전용면적_제곱미터', '공용면적_제곱미터', '주차장면적_제곱미터', '서비스면적_제곱미터',\n",
       "       '기타면적_제곱미터', '대지면적', '대지지분', '평형별총세대수', '단층복층구분', '기본평면도', '확장평면도',\n",
       "       '분양가', '평당분양가', '융자금액', '상환조건', '융자종류', '분양권전매제한여부', '전매제한년수', '전매가능일자',\n",
       "       '관리비', '전용율', '등록일자', '수정일자', '삭제일자', '계약가능시작일자', '처리요청구분자', '요청일자',\n",
       "       '처리일자'],\n",
       "      dtype='object')"
      ]
     },
     "execution_count": 18,
     "metadata": {},
     "output_type": "execute_result"
    }
   ],
   "source": [
    "pf.columns"
   ]
  },
  {
   "cell_type": "code",
   "execution_count": 26,
   "metadata": {},
   "outputs": [
    {
     "data": {
      "text/plain": [
       "array([  1,   2,   3,   4,   5,   6,   7,   8,   9,  10,  11,  12,  13,\n",
       "        14,  15,  16,  17,  18,  19,  20,  21,  22,  23,  24,  25,  28,\n",
       "        29,  30,  31,  32,  33,  34,  35,  36,  37,  38,  39,  40,  26,\n",
       "        27,  41,  53,  54,  42,  43,  44,  45,  46,  47,  49,  50,  48,\n",
       "        51,  52,  55,  56,  57,  58,  59,  60,  61,  63,  64,  65,  66,\n",
       "        67,  68,  69,  70,  71,  72,  73,  74,  75,  76,  77,  78,  79,\n",
       "        80,  81,  82,  62,  83,  84,  85,  86,  87,  88,  89,  90,  91,\n",
       "        92,  93,  94,  95,  96,  97,  98,  99, 100, 101, 102, 103, 104,\n",
       "       105, 106, 107, 108, 109, 110, 111, 112, 113, 114, 115, 116, 117,\n",
       "       118, 119, 120, 121, 122, 123, 124, 125, 126, 127, 128, 129, 130,\n",
       "       131, 132, 133, 134, 135, 136, 137, 138, 139, 140, 141, 142, 143,\n",
       "       144, 145, 146, 147, 148, 149, 150, 151, 152, 153, 154, 155, 156,\n",
       "       157, 158, 159, 160, 161, 162, 163, 164, 165, 166, 167, 168, 169,\n",
       "       170, 171, 172, 173, 174, 175, 176, 177, 178, 179, 180, 181, 182,\n",
       "       183, 184, 185, 186, 187, 188, 189, 190, 191, 192, 193, 194, 195,\n",
       "       196, 197, 220, 221])"
      ]
     },
     "execution_count": 26,
     "metadata": {},
     "output_type": "execute_result"
    }
   ],
   "source": [
    "# 평형코드 이거 기준이 뭔지... 그게 안적혀있네.. \n",
    "pf['평형코드'].unique()"
   ]
  },
  {
   "cell_type": "code",
   "execution_count": 49,
   "metadata": {},
   "outputs": [
    {
     "data": {
      "text/plain": [
       "array([30.99717616, 42.6373766 , 53.05245199, ..., 28.90671958,\n",
       "       28.95847734, 22.50660584])"
      ]
     },
     "execution_count": 49,
     "metadata": {},
     "output_type": "execute_result"
    }
   ],
   "source": [
    "# 공급면적 제곱미터를 평으로 고쳐보면... 2862평? 아파트가? ... 2평이랑 3평은 뭐냐 ...\n",
    "pf['공급면적_평'] = (pf['공급면적_제곱미터'] / 3.305785)\n",
    "pf['공급면적_평'].unique()"
   ]
  },
  {
   "cell_type": "code",
   "execution_count": 55,
   "metadata": {},
   "outputs": [
    {
     "data": {
      "text/plain": [
       "2861.5759948090995"
      ]
     },
     "execution_count": 55,
     "metadata": {},
     "output_type": "execute_result"
    }
   ],
   "source": [
    "pf['공급면적_평'].max()"
   ]
  },
  {
   "cell_type": "code",
   "execution_count": 65,
   "metadata": {},
   "outputs": [
    {
     "data": {
      "text/html": [
       "<div>\n",
       "<style scoped>\n",
       "    .dataframe tbody tr th:only-of-type {\n",
       "        vertical-align: middle;\n",
       "    }\n",
       "\n",
       "    .dataframe tbody tr th {\n",
       "        vertical-align: top;\n",
       "    }\n",
       "\n",
       "    .dataframe thead th {\n",
       "        text-align: right;\n",
       "    }\n",
       "</style>\n",
       "<table border=\"1\" class=\"dataframe\">\n",
       "  <thead>\n",
       "    <tr style=\"text-align: right;\">\n",
       "      <th></th>\n",
       "      <th>Unnamed: 0</th>\n",
       "      <th>단지코드</th>\n",
       "      <th>평형코드</th>\n",
       "      <th>평타입</th>\n",
       "      <th>사용여부</th>\n",
       "      <th>방수</th>\n",
       "      <th>욕실수</th>\n",
       "      <th>계약면적_제곱미터</th>\n",
       "      <th>공급면적_제곱미터</th>\n",
       "      <th>전용면적_제곱미터</th>\n",
       "      <th>...</th>\n",
       "      <th>관리비</th>\n",
       "      <th>전용율</th>\n",
       "      <th>등록일자</th>\n",
       "      <th>수정일자</th>\n",
       "      <th>삭제일자</th>\n",
       "      <th>계약가능시작일자</th>\n",
       "      <th>처리요청구분자</th>\n",
       "      <th>요청일자</th>\n",
       "      <th>처리일자</th>\n",
       "      <th>공급면적_평</th>\n",
       "    </tr>\n",
       "  </thead>\n",
       "  <tbody>\n",
       "    <tr>\n",
       "      <th>65755</th>\n",
       "      <td>65755</td>\n",
       "      <td>18257</td>\n",
       "      <td>35</td>\n",
       "      <td>NaN</td>\n",
       "      <td>Y</td>\n",
       "      <td>4</td>\n",
       "      <td>2</td>\n",
       "      <td>1829.1120</td>\n",
       "      <td>1201.202</td>\n",
       "      <td>809.1330</td>\n",
       "      <td>...</td>\n",
       "      <td>0</td>\n",
       "      <td>NaN</td>\n",
       "      <td>2009-10-28 16:53:52</td>\n",
       "      <td>2021-02-19 19:13:55</td>\n",
       "      <td>1900-01-01 00:00:00</td>\n",
       "      <td>NaN</td>\n",
       "      <td>Y</td>\n",
       "      <td>NaN</td>\n",
       "      <td>NaN</td>\n",
       "      <td>363.363619</td>\n",
       "    </tr>\n",
       "    <tr>\n",
       "      <th>113054</th>\n",
       "      <td>113054</td>\n",
       "      <td>32405</td>\n",
       "      <td>1</td>\n",
       "      <td>NaN</td>\n",
       "      <td>Y</td>\n",
       "      <td>4</td>\n",
       "      <td>2</td>\n",
       "      <td>1667.3380</td>\n",
       "      <td>1242.478</td>\n",
       "      <td>1029.3200</td>\n",
       "      <td>...</td>\n",
       "      <td>0</td>\n",
       "      <td>NaN</td>\n",
       "      <td>2011-10-26 16:38:57</td>\n",
       "      <td>2016-08-02 17:26:20</td>\n",
       "      <td>1900-01-01 00:00:00</td>\n",
       "      <td>NaN</td>\n",
       "      <td>Y</td>\n",
       "      <td>NaN</td>\n",
       "      <td>NaN</td>\n",
       "      <td>375.849609</td>\n",
       "    </tr>\n",
       "    <tr>\n",
       "      <th>174380</th>\n",
       "      <td>174380</td>\n",
       "      <td>46794</td>\n",
       "      <td>152</td>\n",
       "      <td>NaN</td>\n",
       "      <td>Y</td>\n",
       "      <td>5</td>\n",
       "      <td>3</td>\n",
       "      <td>2014.3600</td>\n",
       "      <td>1300.560</td>\n",
       "      <td>795.0400</td>\n",
       "      <td>...</td>\n",
       "      <td>0</td>\n",
       "      <td>NaN</td>\n",
       "      <td>2017-10-24 15:18:21</td>\n",
       "      <td>2017-10-24 15:18:21</td>\n",
       "      <td>1900-01-01 00:00:00</td>\n",
       "      <td>NaN</td>\n",
       "      <td>Y</td>\n",
       "      <td>NaN</td>\n",
       "      <td>NaN</td>\n",
       "      <td>393.419415</td>\n",
       "    </tr>\n",
       "    <tr>\n",
       "      <th>174381</th>\n",
       "      <td>174381</td>\n",
       "      <td>46794</td>\n",
       "      <td>153</td>\n",
       "      <td>NaN</td>\n",
       "      <td>Y</td>\n",
       "      <td>5</td>\n",
       "      <td>3</td>\n",
       "      <td>2130.8000</td>\n",
       "      <td>1354.150</td>\n",
       "      <td>829.4100</td>\n",
       "      <td>...</td>\n",
       "      <td>0</td>\n",
       "      <td>NaN</td>\n",
       "      <td>2017-10-24 15:18:21</td>\n",
       "      <td>2017-10-24 15:18:21</td>\n",
       "      <td>1900-01-01 00:00:00</td>\n",
       "      <td>NaN</td>\n",
       "      <td>Y</td>\n",
       "      <td>NaN</td>\n",
       "      <td>NaN</td>\n",
       "      <td>409.630390</td>\n",
       "    </tr>\n",
       "    <tr>\n",
       "      <th>198185</th>\n",
       "      <td>198185</td>\n",
       "      <td>52589</td>\n",
       "      <td>9</td>\n",
       "      <td>NaN</td>\n",
       "      <td>Y</td>\n",
       "      <td>1</td>\n",
       "      <td>1</td>\n",
       "      <td>9463.7208</td>\n",
       "      <td>9459.755</td>\n",
       "      <td>20.1502</td>\n",
       "      <td>...</td>\n",
       "      <td>0</td>\n",
       "      <td>NaN</td>\n",
       "      <td>2019-02-07 11:38:12</td>\n",
       "      <td>2019-02-07 11:38:12</td>\n",
       "      <td>1900-01-01 00:00:00</td>\n",
       "      <td>NaN</td>\n",
       "      <td>Y</td>\n",
       "      <td>NaN</td>\n",
       "      <td>NaN</td>\n",
       "      <td>2861.575995</td>\n",
       "    </tr>\n",
       "    <tr>\n",
       "      <th>215553</th>\n",
       "      <td>215553</td>\n",
       "      <td>56831</td>\n",
       "      <td>10</td>\n",
       "      <td>NaN</td>\n",
       "      <td>Y</td>\n",
       "      <td>5</td>\n",
       "      <td>4</td>\n",
       "      <td>1319.3800</td>\n",
       "      <td>1168.210</td>\n",
       "      <td>488.1800</td>\n",
       "      <td>...</td>\n",
       "      <td>0</td>\n",
       "      <td>NaN</td>\n",
       "      <td>2020-02-10 09:27:17</td>\n",
       "      <td>2020-02-10 09:27:17</td>\n",
       "      <td>1900-01-01 00:00:00</td>\n",
       "      <td>NaN</td>\n",
       "      <td>Y</td>\n",
       "      <td>NaN</td>\n",
       "      <td>NaN</td>\n",
       "      <td>353.383538</td>\n",
       "    </tr>\n",
       "  </tbody>\n",
       "</table>\n",
       "<p>6 rows × 38 columns</p>\n",
       "</div>"
      ],
      "text/plain": [
       "        Unnamed: 0   단지코드  평형코드  평타입 사용여부  방수  욕실수  계약면적_제곱미터  공급면적_제곱미터  \\\n",
       "65755        65755  18257    35  NaN    Y   4    2  1829.1120   1201.202   \n",
       "113054      113054  32405     1  NaN    Y   4    2  1667.3380   1242.478   \n",
       "174380      174380  46794   152  NaN    Y   5    3  2014.3600   1300.560   \n",
       "174381      174381  46794   153  NaN    Y   5    3  2130.8000   1354.150   \n",
       "198185      198185  52589     9  NaN    Y   1    1  9463.7208   9459.755   \n",
       "215553      215553  56831    10  NaN    Y   5    4  1319.3800   1168.210   \n",
       "\n",
       "        전용면적_제곱미터  ...  관리비  전용율                 등록일자                 수정일자  \\\n",
       "65755    809.1330  ...    0  NaN  2009-10-28 16:53:52  2021-02-19 19:13:55   \n",
       "113054  1029.3200  ...    0  NaN  2011-10-26 16:38:57  2016-08-02 17:26:20   \n",
       "174380   795.0400  ...    0  NaN  2017-10-24 15:18:21  2017-10-24 15:18:21   \n",
       "174381   829.4100  ...    0  NaN  2017-10-24 15:18:21  2017-10-24 15:18:21   \n",
       "198185    20.1502  ...    0  NaN  2019-02-07 11:38:12  2019-02-07 11:38:12   \n",
       "215553   488.1800  ...    0  NaN  2020-02-10 09:27:17  2020-02-10 09:27:17   \n",
       "\n",
       "                       삭제일자 계약가능시작일자  처리요청구분자 요청일자 처리일자       공급면적_평  \n",
       "65755   1900-01-01 00:00:00      NaN        Y  NaN  NaN   363.363619  \n",
       "113054  1900-01-01 00:00:00      NaN        Y  NaN  NaN   375.849609  \n",
       "174380  1900-01-01 00:00:00      NaN        Y  NaN  NaN   393.419415  \n",
       "174381  1900-01-01 00:00:00      NaN        Y  NaN  NaN   409.630390  \n",
       "198185  1900-01-01 00:00:00      NaN        Y  NaN  NaN  2861.575995  \n",
       "215553  1900-01-01 00:00:00      NaN        Y  NaN  NaN   353.383538  \n",
       "\n",
       "[6 rows x 38 columns]"
      ]
     },
     "execution_count": 65,
     "metadata": {},
     "output_type": "execute_result"
    }
   ],
   "source": [
    "pf[pf['공급면적_평'] > 300]"
   ]
  },
  {
   "cell_type": "code",
   "execution_count": 54,
   "metadata": {},
   "outputs": [
    {
     "data": {
      "image/png": "[encoded data removed]",
      "text/plain": [
       "<Figure size 1728x432 with 1 Axes>"
      ]
     },
     "metadata": {},
     "output_type": "display_data"
    }
   ],
   "source": [
    "sns.set(rc={'figure.figsize': (24, 6), 'font.family': 'D2Coding'})\n",
    "p = sns.histplot(pf['공급면적_평'], bins=4000)\n",
    "p.set_xlim(0, 4000)\n",
    "p.set_ylim(0, 10)\n",
    "plt.show()"
   ]
  },
  {
   "cell_type": "code",
   "execution_count": 66,
   "metadata": {},
   "outputs": [
    {
     "data": {
      "text/plain": [
       "43622    대상하이츠\n",
       "Name: 단지구역명, dtype: object"
      ]
     },
     "execution_count": 66,
     "metadata": {},
     "output_type": "execute_result"
    }
   ],
   "source": [
    "# 가장 큰 아파트 인데, 부산에 있는 조그만 아파트인데 값 잘못 들어간듯 함.\n",
    "df[df['단지코드'] == 52589]['단지구역명']"
   ]
  },
  {
   "cell_type": "code",
   "execution_count": 60,
   "metadata": {},
   "outputs": [
    {
     "data": {
      "text/plain": [
       "array([nan, 'B', 'C', ..., 'O03', 'O04', 'O05'], dtype=object)"
      ]
     },
     "execution_count": 60,
     "metadata": {},
     "output_type": "execute_result"
    }
   ],
   "source": [
    "# 평타입도 진짜 여러가지 이상한 값 있어서 쓰기 어려울 듯함.\n",
    "pf['평타입'].unique()"
   ]
  },
  {
   "cell_type": "code",
   "execution_count": 76,
   "metadata": {},
   "outputs": [
    {
     "data": {
      "text/html": [
       "<div>\n",
       "<style scoped>\n",
       "    .dataframe tbody tr th:only-of-type {\n",
       "        vertical-align: middle;\n",
       "    }\n",
       "\n",
       "    .dataframe tbody tr th {\n",
       "        vertical-align: top;\n",
       "    }\n",
       "\n",
       "    .dataframe thead th {\n",
       "        text-align: right;\n",
       "    }\n",
       "</style>\n",
       "<table border=\"1\" class=\"dataframe\">\n",
       "  <thead>\n",
       "    <tr style=\"text-align: right;\">\n",
       "      <th></th>\n",
       "      <th>Unnamed: 0</th>\n",
       "      <th>단지코드</th>\n",
       "      <th>평형코드</th>\n",
       "      <th>평타입</th>\n",
       "      <th>사용여부</th>\n",
       "      <th>방수</th>\n",
       "      <th>욕실수</th>\n",
       "      <th>계약면적_제곱미터</th>\n",
       "      <th>공급면적_제곱미터</th>\n",
       "      <th>전용면적_제곱미터</th>\n",
       "      <th>...</th>\n",
       "      <th>관리비</th>\n",
       "      <th>전용율</th>\n",
       "      <th>등록일자</th>\n",
       "      <th>수정일자</th>\n",
       "      <th>삭제일자</th>\n",
       "      <th>계약가능시작일자</th>\n",
       "      <th>처리요청구분자</th>\n",
       "      <th>요청일자</th>\n",
       "      <th>처리일자</th>\n",
       "      <th>공급면적_평</th>\n",
       "    </tr>\n",
       "    <tr>\n",
       "      <th>평당분양가</th>\n",
       "      <th></th>\n",
       "      <th></th>\n",
       "      <th></th>\n",
       "      <th></th>\n",
       "      <th></th>\n",
       "      <th></th>\n",
       "      <th></th>\n",
       "      <th></th>\n",
       "      <th></th>\n",
       "      <th></th>\n",
       "      <th></th>\n",
       "      <th></th>\n",
       "      <th></th>\n",
       "      <th></th>\n",
       "      <th></th>\n",
       "      <th></th>\n",
       "      <th></th>\n",
       "      <th></th>\n",
       "      <th></th>\n",
       "      <th></th>\n",
       "      <th></th>\n",
       "    </tr>\n",
       "  </thead>\n",
       "  <tbody>\n",
       "  </tbody>\n",
       "</table>\n",
       "<p>0 rows × 37 columns</p>\n",
       "</div>"
      ],
      "text/plain": [
       "Empty DataFrame\n",
       "Columns: [Unnamed: 0, 단지코드, 평형코드, 평타입, 사용여부, 방수, 욕실수, 계약면적_제곱미터, 공급면적_제곱미터, 전용면적_제곱미터, 공용면적_제곱미터, 주차장면적_제곱미터, 서비스면적_제곱미터, 기타면적_제곱미터, 대지면적, 대지지분, 평형별총세대수, 단층복층구분, 기본평면도, 확장평면도, 분양가, 융자금액, 상환조건, 융자종류, 분양권전매제한여부, 전매제한년수, 전매가능일자, 관리비, 전용율, 등록일자, 수정일자, 삭제일자, 계약가능시작일자, 처리요청구분자, 요청일자, 처리일자, 공급면적_평]\n",
       "Index: []\n",
       "\n",
       "[0 rows x 37 columns]"
      ]
     },
     "execution_count": 76,
     "metadata": {},
     "output_type": "execute_result"
    }
   ],
   "source": [
    "# 평형 정보가 아파트 단지당 여러개 있어서 이거는 json document 형태로 넣어야 할듯함. -> 다른 평형을 그냥 다른 아파트로 취급하면 어떨까\n",
    "pf.groupby('평당분양가').count()"
   ]
  },
  {
   "cell_type": "code",
   "execution_count": null,
   "metadata": {},
   "outputs": [],
   "source": [
    "pf[['방수', '욕실수', '전용면적_제곱미터', '전용면적_평']]"
   ]
  },
  {
   "cell_type": "markdown",
   "metadata": {},
   "source": [
    "## 관리비정보테이블 검증"
   ]
  },
  {
   "cell_type": "code",
   "execution_count": 2,
   "metadata": {},
   "outputs": [],
   "source": [
    "ff = pd.read_csv('../data/kms_tables/아파트관리비정보.csv', sep='|', low_memory=False)"
   ]
  },
  {
   "cell_type": "code",
   "execution_count": 8,
   "metadata": {},
   "outputs": [
    {
     "data": {
      "text/plain": [
       "5489744"
      ]
     },
     "execution_count": 8,
     "metadata": {},
     "output_type": "execute_result"
    }
   ],
   "source": [
    "# 관리비 데이터 너무 커, 왜냐면 2014년부터 전부 모아놔서... 일단 2019년부터로 돌리고 없는 데이터는 다시 찾아오는 식으로 해야할듯함.\n",
    "len(ff)"
   ]
  },
  {
   "cell_type": "code",
   "execution_count": 7,
   "metadata": {},
   "outputs": [
    {
     "data": {
      "text/plain": [
       "array([201401, 201402, 201403, 201404, 201405, 201406, 201407, 201408,\n",
       "       201409, 201410, 201411, 201412, 201501, 201502, 201503, 201504,\n",
       "       201505, 201506, 201507, 201508, 201509, 201510, 201511, 201512,\n",
       "       201601, 201602, 201603, 201604, 201605, 201606, 201607, 201608,\n",
       "       201609, 201610, 201611, 201612, 201701, 201702, 201703, 201704,\n",
       "       201705, 201706, 201707, 201708, 201709, 201710, 201711, 201712,\n",
       "       201801, 201802, 201803, 201804, 201805, 201806, 201807, 201808,\n",
       "       201809, 201810, 201811, 201812, 201901, 201902, 201903, 201904,\n",
       "       201905, 201906, 201907, 201908, 201909, 201910, 201911, 201912,\n",
       "       202001, 202002, 202003, 202004, 202005, 202006, 202007, 202008,\n",
       "       202009, 202010, 202011, 202012, 202101, 202102, 202103, 202104,\n",
       "       202105, 202106, 202107, 202108, 202109, 202110, 202111, 201312])"
      ]
     },
     "execution_count": 7,
     "metadata": {},
     "output_type": "execute_result"
    }
   ],
   "source": [
    "ff['관리비년월'].unique()"
   ]
  },
  {
   "cell_type": "code",
   "execution_count": 5,
   "metadata": {},
   "outputs": [
    {
     "data": {
      "text/plain": [
       "Index(['Unnamed: 0', '단지코드', '평형코드', '관리비년월', '공용관리비', '일반관리비', '인건비', '급여',\n",
       "       '제수당', '상여금', '퇴직금', '산재보험료', '고용보험료', '국민연금', '건강보험료', '식대등복리후생비',\n",
       "       '제사무비', '일반사무용품비', '도서인쇄비', '여비교통비', '제세공과금', '공과금중전기료', '통신료', '우편료',\n",
       "       '제세공과금등', '피복비', '교육훈련비', '차량유지비', '연료비', '수리비', '보험료', '기타차량유지비',\n",
       "       '그밖의부대비용', '관리용품구입비', '전문가자문비등', '잡비', '청소비', '경비비', '소독비', '승강비유지비',\n",
       "       '지능형홈네트워크설비유지비', '수선유지비', '수선비', '시설유지비', '안전점검비', '재해예방비', '위탁관리수수료',\n",
       "       '개별사용료', '난방비', '난방공용', '난방전용', '급탕비', '급탕공용', '급탕전용', '가스사용료', '가스공용',\n",
       "       '가스전용', '전기료', '전기공용', '전기전용', '수도료', '수도공용', '수도전용', '정화조오물수수료',\n",
       "       '생활폐기물수수료', '입주자대표회의운영비', '건물보험료', '선거관리위원회운영비', '장기수선충당금', '월사용액',\n",
       "       '충당금잔액', '적립요율', '합계', '사용여부', '처리요청구분자', '요청일자', '처리일자'],\n",
       "      dtype='object')"
      ]
     },
     "execution_count": 5,
     "metadata": {},
     "output_type": "execute_result"
    }
   ],
   "source": [
    "ff.columns"
   ]
  },
  {
   "cell_type": "code",
   "execution_count": 12,
   "metadata": {},
   "outputs": [
    {
     "data": {
      "text/html": [
       "<div>\n",
       "<style scoped>\n",
       "    .dataframe tbody tr th:only-of-type {\n",
       "        vertical-align: middle;\n",
       "    }\n",
       "\n",
       "    .dataframe tbody tr th {\n",
       "        vertical-align: top;\n",
       "    }\n",
       "\n",
       "    .dataframe thead th {\n",
       "        text-align: right;\n",
       "    }\n",
       "</style>\n",
       "<table border=\"1\" class=\"dataframe\">\n",
       "  <thead>\n",
       "    <tr style=\"text-align: right;\">\n",
       "      <th></th>\n",
       "      <th>Unnamed: 0</th>\n",
       "      <th>평형코드</th>\n",
       "      <th>관리비년월</th>\n",
       "      <th>공용관리비</th>\n",
       "      <th>일반관리비</th>\n",
       "      <th>인건비</th>\n",
       "      <th>급여</th>\n",
       "      <th>제수당</th>\n",
       "      <th>상여금</th>\n",
       "      <th>퇴직금</th>\n",
       "      <th>...</th>\n",
       "      <th>선거관리위원회운영비</th>\n",
       "      <th>장기수선충당금</th>\n",
       "      <th>월사용액</th>\n",
       "      <th>충당금잔액</th>\n",
       "      <th>적립요율</th>\n",
       "      <th>합계</th>\n",
       "      <th>사용여부</th>\n",
       "      <th>처리요청구분자</th>\n",
       "      <th>요청일자</th>\n",
       "      <th>처리일자</th>\n",
       "    </tr>\n",
       "    <tr>\n",
       "      <th>단지코드</th>\n",
       "      <th></th>\n",
       "      <th></th>\n",
       "      <th></th>\n",
       "      <th></th>\n",
       "      <th></th>\n",
       "      <th></th>\n",
       "      <th></th>\n",
       "      <th></th>\n",
       "      <th></th>\n",
       "      <th></th>\n",
       "      <th></th>\n",
       "      <th></th>\n",
       "      <th></th>\n",
       "      <th></th>\n",
       "      <th></th>\n",
       "      <th></th>\n",
       "      <th></th>\n",
       "      <th></th>\n",
       "      <th></th>\n",
       "      <th></th>\n",
       "      <th></th>\n",
       "    </tr>\n",
       "  </thead>\n",
       "  <tbody>\n",
       "    <tr>\n",
       "      <th>1</th>\n",
       "      <td>376</td>\n",
       "      <td>376</td>\n",
       "      <td>376</td>\n",
       "      <td>376</td>\n",
       "      <td>376</td>\n",
       "      <td>376</td>\n",
       "      <td>376</td>\n",
       "      <td>376</td>\n",
       "      <td>376</td>\n",
       "      <td>376</td>\n",
       "      <td>...</td>\n",
       "      <td>376</td>\n",
       "      <td>376</td>\n",
       "      <td>376</td>\n",
       "      <td>376</td>\n",
       "      <td>376</td>\n",
       "      <td>376</td>\n",
       "      <td>376</td>\n",
       "      <td>376</td>\n",
       "      <td>376</td>\n",
       "      <td>0</td>\n",
       "    </tr>\n",
       "    <tr>\n",
       "      <th>3</th>\n",
       "      <td>376</td>\n",
       "      <td>376</td>\n",
       "      <td>376</td>\n",
       "      <td>376</td>\n",
       "      <td>376</td>\n",
       "      <td>376</td>\n",
       "      <td>376</td>\n",
       "      <td>376</td>\n",
       "      <td>376</td>\n",
       "      <td>376</td>\n",
       "      <td>...</td>\n",
       "      <td>376</td>\n",
       "      <td>376</td>\n",
       "      <td>376</td>\n",
       "      <td>376</td>\n",
       "      <td>376</td>\n",
       "      <td>376</td>\n",
       "      <td>376</td>\n",
       "      <td>376</td>\n",
       "      <td>376</td>\n",
       "      <td>0</td>\n",
       "    </tr>\n",
       "    <tr>\n",
       "      <th>23</th>\n",
       "      <td>318</td>\n",
       "      <td>318</td>\n",
       "      <td>318</td>\n",
       "      <td>318</td>\n",
       "      <td>318</td>\n",
       "      <td>318</td>\n",
       "      <td>318</td>\n",
       "      <td>318</td>\n",
       "      <td>318</td>\n",
       "      <td>318</td>\n",
       "      <td>...</td>\n",
       "      <td>318</td>\n",
       "      <td>318</td>\n",
       "      <td>318</td>\n",
       "      <td>318</td>\n",
       "      <td>318</td>\n",
       "      <td>318</td>\n",
       "      <td>318</td>\n",
       "      <td>318</td>\n",
       "      <td>318</td>\n",
       "      <td>0</td>\n",
       "    </tr>\n",
       "    <tr>\n",
       "      <th>29</th>\n",
       "      <td>282</td>\n",
       "      <td>282</td>\n",
       "      <td>282</td>\n",
       "      <td>282</td>\n",
       "      <td>282</td>\n",
       "      <td>282</td>\n",
       "      <td>282</td>\n",
       "      <td>282</td>\n",
       "      <td>282</td>\n",
       "      <td>282</td>\n",
       "      <td>...</td>\n",
       "      <td>282</td>\n",
       "      <td>282</td>\n",
       "      <td>282</td>\n",
       "      <td>282</td>\n",
       "      <td>282</td>\n",
       "      <td>282</td>\n",
       "      <td>282</td>\n",
       "      <td>282</td>\n",
       "      <td>282</td>\n",
       "      <td>0</td>\n",
       "    </tr>\n",
       "    <tr>\n",
       "      <th>37</th>\n",
       "      <td>552</td>\n",
       "      <td>552</td>\n",
       "      <td>552</td>\n",
       "      <td>552</td>\n",
       "      <td>552</td>\n",
       "      <td>552</td>\n",
       "      <td>552</td>\n",
       "      <td>552</td>\n",
       "      <td>552</td>\n",
       "      <td>552</td>\n",
       "      <td>...</td>\n",
       "      <td>552</td>\n",
       "      <td>552</td>\n",
       "      <td>552</td>\n",
       "      <td>552</td>\n",
       "      <td>552</td>\n",
       "      <td>552</td>\n",
       "      <td>552</td>\n",
       "      <td>552</td>\n",
       "      <td>552</td>\n",
       "      <td>0</td>\n",
       "    </tr>\n",
       "    <tr>\n",
       "      <th>...</th>\n",
       "      <td>...</td>\n",
       "      <td>...</td>\n",
       "      <td>...</td>\n",
       "      <td>...</td>\n",
       "      <td>...</td>\n",
       "      <td>...</td>\n",
       "      <td>...</td>\n",
       "      <td>...</td>\n",
       "      <td>...</td>\n",
       "      <td>...</td>\n",
       "      <td>...</td>\n",
       "      <td>...</td>\n",
       "      <td>...</td>\n",
       "      <td>...</td>\n",
       "      <td>...</td>\n",
       "      <td>...</td>\n",
       "      <td>...</td>\n",
       "      <td>...</td>\n",
       "      <td>...</td>\n",
       "      <td>...</td>\n",
       "      <td>...</td>\n",
       "    </tr>\n",
       "    <tr>\n",
       "      <th>221427</th>\n",
       "      <td>462</td>\n",
       "      <td>462</td>\n",
       "      <td>462</td>\n",
       "      <td>462</td>\n",
       "      <td>462</td>\n",
       "      <td>462</td>\n",
       "      <td>462</td>\n",
       "      <td>462</td>\n",
       "      <td>462</td>\n",
       "      <td>462</td>\n",
       "      <td>...</td>\n",
       "      <td>462</td>\n",
       "      <td>462</td>\n",
       "      <td>462</td>\n",
       "      <td>462</td>\n",
       "      <td>462</td>\n",
       "      <td>462</td>\n",
       "      <td>462</td>\n",
       "      <td>462</td>\n",
       "      <td>0</td>\n",
       "      <td>0</td>\n",
       "    </tr>\n",
       "    <tr>\n",
       "      <th>221506</th>\n",
       "      <td>528</td>\n",
       "      <td>528</td>\n",
       "      <td>528</td>\n",
       "      <td>528</td>\n",
       "      <td>528</td>\n",
       "      <td>528</td>\n",
       "      <td>528</td>\n",
       "      <td>528</td>\n",
       "      <td>528</td>\n",
       "      <td>528</td>\n",
       "      <td>...</td>\n",
       "      <td>528</td>\n",
       "      <td>528</td>\n",
       "      <td>528</td>\n",
       "      <td>528</td>\n",
       "      <td>528</td>\n",
       "      <td>528</td>\n",
       "      <td>528</td>\n",
       "      <td>528</td>\n",
       "      <td>0</td>\n",
       "      <td>0</td>\n",
       "    </tr>\n",
       "    <tr>\n",
       "      <th>221562</th>\n",
       "      <td>243</td>\n",
       "      <td>243</td>\n",
       "      <td>243</td>\n",
       "      <td>243</td>\n",
       "      <td>243</td>\n",
       "      <td>243</td>\n",
       "      <td>243</td>\n",
       "      <td>243</td>\n",
       "      <td>243</td>\n",
       "      <td>243</td>\n",
       "      <td>...</td>\n",
       "      <td>243</td>\n",
       "      <td>243</td>\n",
       "      <td>243</td>\n",
       "      <td>243</td>\n",
       "      <td>243</td>\n",
       "      <td>243</td>\n",
       "      <td>243</td>\n",
       "      <td>243</td>\n",
       "      <td>243</td>\n",
       "      <td>0</td>\n",
       "    </tr>\n",
       "    <tr>\n",
       "      <th>222225</th>\n",
       "      <td>184</td>\n",
       "      <td>184</td>\n",
       "      <td>184</td>\n",
       "      <td>184</td>\n",
       "      <td>184</td>\n",
       "      <td>184</td>\n",
       "      <td>184</td>\n",
       "      <td>184</td>\n",
       "      <td>184</td>\n",
       "      <td>184</td>\n",
       "      <td>...</td>\n",
       "      <td>184</td>\n",
       "      <td>184</td>\n",
       "      <td>184</td>\n",
       "      <td>184</td>\n",
       "      <td>184</td>\n",
       "      <td>184</td>\n",
       "      <td>184</td>\n",
       "      <td>184</td>\n",
       "      <td>0</td>\n",
       "      <td>0</td>\n",
       "    </tr>\n",
       "    <tr>\n",
       "      <th>223185</th>\n",
       "      <td>36</td>\n",
       "      <td>36</td>\n",
       "      <td>36</td>\n",
       "      <td>36</td>\n",
       "      <td>36</td>\n",
       "      <td>36</td>\n",
       "      <td>36</td>\n",
       "      <td>36</td>\n",
       "      <td>36</td>\n",
       "      <td>36</td>\n",
       "      <td>...</td>\n",
       "      <td>36</td>\n",
       "      <td>36</td>\n",
       "      <td>36</td>\n",
       "      <td>36</td>\n",
       "      <td>36</td>\n",
       "      <td>36</td>\n",
       "      <td>36</td>\n",
       "      <td>36</td>\n",
       "      <td>0</td>\n",
       "      <td>0</td>\n",
       "    </tr>\n",
       "  </tbody>\n",
       "</table>\n",
       "<p>15184 rows × 76 columns</p>\n",
       "</div>"
      ],
      "text/plain": [
       "        Unnamed: 0  평형코드  관리비년월  공용관리비  일반관리비  인건비   급여  제수당  상여금  퇴직금  ...  \\\n",
       "단지코드                                                                    ...   \n",
       "1              376   376    376    376    376  376  376  376  376  376  ...   \n",
       "3              376   376    376    376    376  376  376  376  376  376  ...   \n",
       "23             318   318    318    318    318  318  318  318  318  318  ...   \n",
       "29             282   282    282    282    282  282  282  282  282  282  ...   \n",
       "37             552   552    552    552    552  552  552  552  552  552  ...   \n",
       "...            ...   ...    ...    ...    ...  ...  ...  ...  ...  ...  ...   \n",
       "221427         462   462    462    462    462  462  462  462  462  462  ...   \n",
       "221506         528   528    528    528    528  528  528  528  528  528  ...   \n",
       "221562         243   243    243    243    243  243  243  243  243  243  ...   \n",
       "222225         184   184    184    184    184  184  184  184  184  184  ...   \n",
       "223185          36    36     36     36     36   36   36   36   36   36  ...   \n",
       "\n",
       "        선거관리위원회운영비  장기수선충당금  월사용액  충당금잔액  적립요율   합계  사용여부  처리요청구분자  요청일자  처리일자  \n",
       "단지코드                                                                            \n",
       "1              376      376   376    376   376  376   376      376   376     0  \n",
       "3              376      376   376    376   376  376   376      376   376     0  \n",
       "23             318      318   318    318   318  318   318      318   318     0  \n",
       "29             282      282   282    282   282  282   282      282   282     0  \n",
       "37             552      552   552    552   552  552   552      552   552     0  \n",
       "...            ...      ...   ...    ...   ...  ...   ...      ...   ...   ...  \n",
       "221427         462      462   462    462   462  462   462      462     0     0  \n",
       "221506         528      528   528    528   528  528   528      528     0     0  \n",
       "221562         243      243   243    243   243  243   243      243   243     0  \n",
       "222225         184      184   184    184   184  184   184      184     0     0  \n",
       "223185          36       36    36     36    36   36    36       36     0     0  \n",
       "\n",
       "[15184 rows x 76 columns]"
      ]
     },
     "execution_count": 12,
     "metadata": {},
     "output_type": "execute_result"
    }
   ],
   "source": [
    "ff.groupby('단지코드').count()"
   ]
  },
  {
   "cell_type": "code",
   "execution_count": 19,
   "metadata": {},
   "outputs": [
    {
     "data": {
      "text/plain": [
       "단지코드\n",
       "1         335730.613636\n",
       "3         180097.363636\n",
       "29        294711.727273\n",
       "37        163465.939394\n",
       "42        222392.488636\n",
       "              ...      \n",
       "221427    308994.103896\n",
       "221506    308811.278409\n",
       "221562    106277.539683\n",
       "222225    223926.636364\n",
       "223185    161608.194444\n",
       "Name: 합계, Length: 14957, dtype: float64"
      ]
     },
     "execution_count": 19,
     "metadata": {},
     "output_type": "execute_result"
    }
   ],
   "source": [
    "ff[ff['관리비년월'] >= 202001].groupby('단지코드')['합계'].mean()"
   ]
  },
  {
   "cell_type": "code",
   "execution_count": 13,
   "metadata": {},
   "outputs": [
    {
     "data": {
      "text/html": [
       "<div>\n",
       "<style scoped>\n",
       "    .dataframe tbody tr th:only-of-type {\n",
       "        vertical-align: middle;\n",
       "    }\n",
       "\n",
       "    .dataframe tbody tr th {\n",
       "        vertical-align: top;\n",
       "    }\n",
       "\n",
       "    .dataframe thead th {\n",
       "        text-align: right;\n",
       "    }\n",
       "</style>\n",
       "<table border=\"1\" class=\"dataframe\">\n",
       "  <thead>\n",
       "    <tr style=\"text-align: right;\">\n",
       "      <th></th>\n",
       "      <th>Unnamed: 0</th>\n",
       "      <th>단지코드</th>\n",
       "      <th>평형코드</th>\n",
       "      <th>관리비년월</th>\n",
       "      <th>공용관리비</th>\n",
       "      <th>일반관리비</th>\n",
       "      <th>인건비</th>\n",
       "      <th>급여</th>\n",
       "      <th>제수당</th>\n",
       "      <th>상여금</th>\n",
       "      <th>...</th>\n",
       "      <th>선거관리위원회운영비</th>\n",
       "      <th>장기수선충당금</th>\n",
       "      <th>월사용액</th>\n",
       "      <th>충당금잔액</th>\n",
       "      <th>적립요율</th>\n",
       "      <th>합계</th>\n",
       "      <th>사용여부</th>\n",
       "      <th>처리요청구분자</th>\n",
       "      <th>요청일자</th>\n",
       "      <th>처리일자</th>\n",
       "    </tr>\n",
       "  </thead>\n",
       "  <tbody>\n",
       "    <tr>\n",
       "      <th>0</th>\n",
       "      <td>0</td>\n",
       "      <td>1</td>\n",
       "      <td>1</td>\n",
       "      <td>201401</td>\n",
       "      <td>93493</td>\n",
       "      <td>36919</td>\n",
       "      <td>29945</td>\n",
       "      <td>21896</td>\n",
       "      <td>1776</td>\n",
       "      <td>0</td>\n",
       "      <td>...</td>\n",
       "      <td>0</td>\n",
       "      <td>6131740</td>\n",
       "      <td>0</td>\n",
       "      <td>0</td>\n",
       "      <td>0.0</td>\n",
       "      <td>382475</td>\n",
       "      <td>Y</td>\n",
       "      <td>Y</td>\n",
       "      <td>2021-12-20 18:18:28</td>\n",
       "      <td>NaN</td>\n",
       "    </tr>\n",
       "    <tr>\n",
       "      <th>1</th>\n",
       "      <td>1</td>\n",
       "      <td>1</td>\n",
       "      <td>1</td>\n",
       "      <td>201402</td>\n",
       "      <td>91829</td>\n",
       "      <td>35071</td>\n",
       "      <td>29300</td>\n",
       "      <td>22290</td>\n",
       "      <td>1776</td>\n",
       "      <td>0</td>\n",
       "      <td>...</td>\n",
       "      <td>0</td>\n",
       "      <td>6131740</td>\n",
       "      <td>0</td>\n",
       "      <td>0</td>\n",
       "      <td>0.0</td>\n",
       "      <td>322584</td>\n",
       "      <td>Y</td>\n",
       "      <td>Y</td>\n",
       "      <td>2021-12-20 18:18:28</td>\n",
       "      <td>NaN</td>\n",
       "    </tr>\n",
       "    <tr>\n",
       "      <th>2</th>\n",
       "      <td>2</td>\n",
       "      <td>1</td>\n",
       "      <td>1</td>\n",
       "      <td>201403</td>\n",
       "      <td>91882</td>\n",
       "      <td>35569</td>\n",
       "      <td>29338</td>\n",
       "      <td>22348</td>\n",
       "      <td>1776</td>\n",
       "      <td>0</td>\n",
       "      <td>...</td>\n",
       "      <td>0</td>\n",
       "      <td>6131740</td>\n",
       "      <td>0</td>\n",
       "      <td>0</td>\n",
       "      <td>0.0</td>\n",
       "      <td>294557</td>\n",
       "      <td>Y</td>\n",
       "      <td>Y</td>\n",
       "      <td>2021-12-20 18:18:28</td>\n",
       "      <td>NaN</td>\n",
       "    </tr>\n",
       "    <tr>\n",
       "      <th>3</th>\n",
       "      <td>3</td>\n",
       "      <td>1</td>\n",
       "      <td>1</td>\n",
       "      <td>201404</td>\n",
       "      <td>92634</td>\n",
       "      <td>36063</td>\n",
       "      <td>29677</td>\n",
       "      <td>22348</td>\n",
       "      <td>1776</td>\n",
       "      <td>0</td>\n",
       "      <td>...</td>\n",
       "      <td>0</td>\n",
       "      <td>6131740</td>\n",
       "      <td>0</td>\n",
       "      <td>0</td>\n",
       "      <td>0.0</td>\n",
       "      <td>238239</td>\n",
       "      <td>Y</td>\n",
       "      <td>Y</td>\n",
       "      <td>2021-12-20 18:18:28</td>\n",
       "      <td>NaN</td>\n",
       "    </tr>\n",
       "    <tr>\n",
       "      <th>4</th>\n",
       "      <td>4</td>\n",
       "      <td>1</td>\n",
       "      <td>1</td>\n",
       "      <td>201405</td>\n",
       "      <td>92584</td>\n",
       "      <td>36098</td>\n",
       "      <td>30029</td>\n",
       "      <td>22675</td>\n",
       "      <td>1776</td>\n",
       "      <td>0</td>\n",
       "      <td>...</td>\n",
       "      <td>0</td>\n",
       "      <td>6131740</td>\n",
       "      <td>0</td>\n",
       "      <td>0</td>\n",
       "      <td>0.0</td>\n",
       "      <td>196735</td>\n",
       "      <td>Y</td>\n",
       "      <td>Y</td>\n",
       "      <td>2021-12-20 18:18:28</td>\n",
       "      <td>NaN</td>\n",
       "    </tr>\n",
       "  </tbody>\n",
       "</table>\n",
       "<p>5 rows × 77 columns</p>\n",
       "</div>"
      ],
      "text/plain": [
       "   Unnamed: 0  단지코드  평형코드   관리비년월  공용관리비  일반관리비    인건비     급여   제수당  상여금  ...  \\\n",
       "0           0     1     1  201401  93493  36919  29945  21896  1776    0  ...   \n",
       "1           1     1     1  201402  91829  35071  29300  22290  1776    0  ...   \n",
       "2           2     1     1  201403  91882  35569  29338  22348  1776    0  ...   \n",
       "3           3     1     1  201404  92634  36063  29677  22348  1776    0  ...   \n",
       "4           4     1     1  201405  92584  36098  30029  22675  1776    0  ...   \n",
       "\n",
       "   선거관리위원회운영비  장기수선충당금  월사용액  충당금잔액  적립요율      합계  사용여부  처리요청구분자  \\\n",
       "0           0  6131740     0      0   0.0  382475     Y        Y   \n",
       "1           0  6131740     0      0   0.0  322584     Y        Y   \n",
       "2           0  6131740     0      0   0.0  294557     Y        Y   \n",
       "3           0  6131740     0      0   0.0  238239     Y        Y   \n",
       "4           0  6131740     0      0   0.0  196735     Y        Y   \n",
       "\n",
       "                  요청일자  처리일자  \n",
       "0  2021-12-20 18:18:28   NaN  \n",
       "1  2021-12-20 18:18:28   NaN  \n",
       "2  2021-12-20 18:18:28   NaN  \n",
       "3  2021-12-20 18:18:28   NaN  \n",
       "4  2021-12-20 18:18:28   NaN  \n",
       "\n",
       "[5 rows x 77 columns]"
      ]
     },
     "execution_count": 13,
     "metadata": {},
     "output_type": "execute_result"
    }
   ],
   "source": [
    "ff.head()"
   ]
  },
  {
   "cell_type": "code",
   "execution_count": 32,
   "metadata": {},
   "outputs": [
    {
     "data": {
      "image/png": "[encoded data removed]",
      "text/plain": [
       "<Figure size 1728x432 with 1 Axes>"
      ]
     },
     "metadata": {},
     "output_type": "display_data"
    }
   ],
   "source": [
    "sns.set(rc={'figure.figsize': (24, 6), 'font.family': 'D2Coding'})\n",
    "p = sns.histplot(ff[(ff['관리비년월'] <= 201901) & (ff['관리비년월'] >= 201801)].groupby('단지코드')['합계'].mean(), bins=400)\n",
    "p.set_xlim(0, 1e6)\n",
    "#plt.axvline(x=12, color='red')\n",
    "plt.show()\n"
   ]
  },
  {
   "cell_type": "code",
   "execution_count": 35,
   "metadata": {},
   "outputs": [
    {
     "data": {
      "image/png": "[encoded data removed]",
      "text/plain": [
       "<Figure size 1728x432 with 1 Axes>"
      ]
     },
     "metadata": {},
     "output_type": "display_data"
    }
   ],
   "source": [
    "p = sns.histplot(ff[(ff['관리비년월'] <= 202001) & (ff['관리비년월'] >= 201901)].groupby('단지코드')['합계'].mean(), bins=400)\n",
    "p.set_xlim(0, 1e6)\n",
    "#plt.axvline(x=12, color='red')\n",
    "plt.show()\n"
   ]
  },
  {
   "cell_type": "code",
   "execution_count": 36,
   "metadata": {},
   "outputs": [],
   "source": [
    "target_ff = ff[(ff['관리비년월'] >= 202001)].groupby('단지코드')['합계'].mean()"
   ]
  },
  {
   "cell_type": "code",
   "execution_count": 37,
   "metadata": {},
   "outputs": [
    {
     "data": {
      "text/plain": [
       "14957"
      ]
     },
     "execution_count": 37,
     "metadata": {},
     "output_type": "execute_result"
    }
   ],
   "source": [
    "len(target_ff)"
   ]
  },
  {
   "cell_type": "code",
   "execution_count": 39,
   "metadata": {},
   "outputs": [
    {
     "data": {
      "text/plain": [
       "Int64Index([     1,      3,     29,     37,     42,     43,     45,     49,\n",
       "                61,     62,\n",
       "            ...\n",
       "            220098, 220589, 220634, 220977, 221193, 221427, 221506, 221562,\n",
       "            222225, 223185],\n",
       "           dtype='int64', name='단지코드', length=14957)"
      ]
     },
     "execution_count": 39,
     "metadata": {},
     "output_type": "execute_result"
    }
   ],
   "source": [
    "target_ff.index"
   ]
  },
  {
   "cell_type": "code",
   "execution_count": 44,
   "metadata": {},
   "outputs": [
    {
     "data": {
      "text/plain": [
       "Int64Index([     1,      3,     23,     29,     37,     42,     43,     45,\n",
       "                49,     61,\n",
       "            ...\n",
       "            220098, 220589, 220634, 220977, 221193, 221427, 221506, 221562,\n",
       "            222225, 223185],\n",
       "           dtype='int64', name='단지코드', length=15184)"
      ]
     },
     "execution_count": 44,
     "metadata": {},
     "output_type": "execute_result"
    }
   ],
   "source": [
    "ff.groupby('단지코드').count().index"
   ]
  },
  {
   "cell_type": "code",
   "execution_count": 42,
   "metadata": {},
   "outputs": [],
   "source": [
    "idxs = []\n",
    "for idx in ff.groupby('단지코드').count().index:\n",
    "    if idx not in target_ff.index:\n",
    "        idxs.append(idx)"
   ]
  },
  {
   "cell_type": "code",
   "execution_count": 56,
   "metadata": {},
   "outputs": [
    {
     "data": {
      "text/plain": [
       "227"
      ]
     },
     "execution_count": 56,
     "metadata": {},
     "output_type": "execute_result"
    }
   ],
   "source": [
    "last = ff.loc[idxs]\n",
    "len(last)"
   ]
  },
  {
   "cell_type": "code",
   "execution_count": 57,
   "metadata": {},
   "outputs": [
    {
     "data": {
      "text/plain": [
       "단지코드\n",
       "1      298329.750000\n",
       "3       80197.833333\n",
       "29     456775.000000\n",
       "37     193873.500000\n",
       "42     160055.000000\n",
       "45     208057.500000\n",
       "61     220785.000000\n",
       "62     260153.000000\n",
       "102    433314.000000\n",
       "118    343155.333333\n",
       "132    308697.166667\n",
       "134    360430.333333\n",
       "185    402779.000000\n",
       "186    249082.000000\n",
       "190    411888.000000\n",
       "196    427090.000000\n",
       "233    745750.000000\n",
       "234    641307.000000\n",
       "243    413635.000000\n",
       "253    326350.000000\n",
       "Name: 합계, dtype: float64"
      ]
     },
     "execution_count": 57,
     "metadata": {},
     "output_type": "execute_result"
    }
   ],
   "source": [
    "last[last['관리비년월'] >= 202001].groupby('단지코드')['합계'].mean()"
   ]
  },
  {
   "cell_type": "code",
   "execution_count": null,
   "metadata": {},
   "outputs": [],
   "source": []
  }
 ],
 "metadata": {
  "interpreter": {
   "hash": "9647a49844672eb46cfa6f11b9cd6e23de5390f9773752bd69eef04b44300db2"
  },
  "kernelspec": {
   "display_name": "Python 3.9.7 64-bit ('paul_base': conda)",
   "language": "python",
   "name": "python3"
  },
  "language_info": {
   "codemirror_mode": {
    "name": "ipython",
    "version": 3
   },
   "file_extension": ".py",
   "mimetype": "text/x-python",
   "name": "python",
   "nbconvert_exporter": "python",
   "pygments_lexer": "ipython3",
   "version": "3.9.7"
  },
  "orig_nbformat": 4
 },
 "nbformat": 4,
 "nbformat_minor": 2
}
