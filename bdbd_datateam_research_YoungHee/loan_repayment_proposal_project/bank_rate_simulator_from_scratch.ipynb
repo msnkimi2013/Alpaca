{
 "cells": [
  {
   "cell_type": "code",
   "execution_count": 1,
   "id": "6c9e0ce8",
   "metadata": {},
   "outputs": [],
   "source": [
    "import pandas as pd\n",
    "import numpy as np\n",
    "import seaborn as sns"
   ]
  },
  {
   "cell_type": "markdown",
   "id": "378ce0cf",
   "metadata": {},
   "source": [
    "금리 변화 범위 설정: +0.50 ~ -0.50 "
   ]
  },
  {
   "cell_type": "code",
   "execution_count": 2,
   "id": "8ed53d2b",
   "metadata": {},
   "outputs": [
    {
     "data": {
      "text/plain": [
       "array([0.  , 0.05, 0.1 , 0.15, 0.2 , 0.25, 0.3 , 0.35, 0.4 , 0.45, 0.5 ])"
      ]
     },
     "execution_count": 2,
     "metadata": {},
     "output_type": "execute_result"
    }
   ],
   "source": [
    "rate_change_space = np.array(range(0, 55, 5)) / 100\n",
    "rate_change_space"
   ]
  },
  {
   "cell_type": "code",
   "execution_count": 3,
   "id": "fd630f0b",
   "metadata": {},
   "outputs": [
    {
     "data": {
      "text/plain": [
       "11"
      ]
     },
     "execution_count": 3,
     "metadata": {},
     "output_type": "execute_result"
    }
   ],
   "source": [
    "len(rate_change_space)"
   ]
  },
  {
   "cell_type": "markdown",
   "id": "32f5d2e0",
   "metadata": {},
   "source": [
    "각 금리 변화에 대한 확률 설정: 0에서 제일 크고 양옆으로 갈수록 작아지도록"
   ]
  },
  {
   "cell_type": "code",
   "execution_count": 4,
   "id": "83b80a6a",
   "metadata": {},
   "outputs": [
    {
     "data": {
      "text/plain": [
       "array([0.5 , 0.45, 0.4 , 0.35, 0.3 , 0.25, 0.2 , 0.15, 0.1 , 0.05, 0.  ])"
      ]
     },
     "execution_count": 4,
     "metadata": {},
     "output_type": "execute_result"
    }
   ],
   "source": [
    "rate_change_prob = abs(rate_change_space - 0.5)\n",
    "rate_change_prob"
   ]
  },
  {
   "cell_type": "code",
   "execution_count": 5,
   "id": "6454d8fd",
   "metadata": {},
   "outputs": [
    {
     "data": {
      "text/plain": [
       "array([[0.  , 0.05, 0.1 , 0.15, 0.2 , 0.25, 0.3 , 0.35, 0.4 , 0.45, 0.5 ],\n",
       "       [0.5 , 0.45, 0.4 , 0.35, 0.3 , 0.25, 0.2 , 0.15, 0.1 , 0.05, 0.  ]])"
      ]
     },
     "execution_count": 5,
     "metadata": {},
     "output_type": "execute_result"
    }
   ],
   "source": [
    "up_prob_matrix = np.vstack([rate_change_space, rate_change_prob])\n",
    "up_prob_matrix"
   ]
  },
  {
   "cell_type": "code",
   "execution_count": 6,
   "id": "c1eb4462",
   "metadata": {},
   "outputs": [
    {
     "data": {
      "text/plain": [
       "array([[-0.  , -0.05, -0.1 , -0.15, -0.2 , -0.25, -0.3 , -0.35, -0.4 ,\n",
       "        -0.45, -0.5 ],\n",
       "       [ 0.5 ,  0.45,  0.4 ,  0.35,  0.3 ,  0.25,  0.2 ,  0.15,  0.1 ,\n",
       "         0.05,  0.  ]])"
      ]
     },
     "execution_count": 6,
     "metadata": {},
     "output_type": "execute_result"
    }
   ],
   "source": [
    "down_prob_matrix = np.vstack([-rate_change_space, rate_change_prob])\n",
    "down_prob_matrix"
   ]
  },
  {
   "cell_type": "markdown",
   "id": "b279f7ef",
   "metadata": {},
   "source": [
    "simulation function"
   ]
  },
  {
   "cell_type": "code",
   "execution_count": 14,
   "id": "efa1c5ff",
   "metadata": {},
   "outputs": [],
   "source": [
    "def bank_rate_simulator(start_rate, period, up_matrix, down_matrix):\n",
    "    \n",
    "    results = []\n",
    "    rate = start_rate\n",
    "    for i in range(period):\n",
    "        # 금리 인상인지 인하인지 먼저 주사위 던지고\n",
    "        if np.random.rand() > 0.5:\n",
    "            prob_matrix = up_matrix\n",
    "        else:\n",
    "            prob_matrix = down_matrix\n",
    "            \n",
    "        # 주사위 던져서 해당 변화율만큼 움직임\n",
    "        dice = np.random.random()\n",
    "        idx = np.argmax(up_prob_matrix[1] < dice)\n",
    "        rate += prob_matrix[0, idx]\n",
    "        results.append(rate)\n",
    "        \n",
    "    return results"
   ]
  },
  {
   "cell_type": "code",
   "execution_count": 15,
   "id": "721f0fa0",
   "metadata": {},
   "outputs": [],
   "source": [
    "rates = bank_rate_simulator(2.45, 12, up_prob_matrix, down_prob_matrix)"
   ]
  },
  {
   "cell_type": "code",
   "execution_count": 16,
   "id": "a067341a",
   "metadata": {},
   "outputs": [
    {
     "data": {
      "image/png": "[encoded data removed]",
      "text/plain": [
       "<Figure size 432x288 with 1 Axes>"
      ]
     },
     "metadata": {},
     "output_type": "display_data"
    }
   ],
   "source": [
    "sns.set_theme()\n",
    "ax = sns.lineplot(x=range(12), y=rates)"
   ]
  },
  {
   "cell_type": "code",
   "execution_count": null,
   "id": "6955194c",
   "metadata": {},
   "outputs": [],
   "source": []
  }
 ],
 "metadata": {
  "kernelspec": {
   "display_name": "Python 3.8.8 64-bit ('base': conda)",
   "language": "python",
   "name": "python388jvsc74a57bd018680d767b0e5442da26be3d429bde9185962ea6ca0da7aef8eadf768b29a96e"
  },
  "language_info": {
   "codemirror_mode": {
    "name": "ipython",
    "version": 3
   },
   "file_extension": ".py",
   "mimetype": "text/x-python",
   "name": "python",
   "nbconvert_exporter": "python",
   "pygments_lexer": "ipython3",
   "version": "3.8.8"
  },
  "latex_envs": {
   "LaTeX_envs_menu_present": true,
   "autoclose": true,
   "autocomplete": true,
   "bibliofile": "biblio.bib",
   "cite_by": "apalike",
   "current_citInitial": 1,
   "eqLabelWithNumbers": true,
   "eqNumInitial": 1,
   "hotkeys": {
    "equation": "Ctrl-E",
    "itemize": "Ctrl-I"
   },
   "labels_anchors": false,
   "latex_user_defs": false,
   "report_style_numbering": false,
   "user_envs_cfg": false
  },
  "toc": {
   "base_numbering": 1,
   "nav_menu": {},
   "number_sections": true,
   "sideBar": true,
   "skip_h1_title": true,
   "title_cell": "Table of Contents",
   "title_sidebar": "Contents",
   "toc_cell": false,
   "toc_position": {},
   "toc_section_display": true,
   "toc_window_display": false
  }
 },
 "nbformat": 4,
 "nbformat_minor": 5
}
